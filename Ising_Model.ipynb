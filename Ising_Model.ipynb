{
  "cells": [
    {
      "cell_type": "code",
      "execution_count": 166,
      "metadata": {
        "id": "ch29WhAcfk04"
      },
      "outputs": [],
      "source": [
        "import numpy as np\n",
        "from numpy.random import rand\n",
        "import matplotlib.pyplot as plt"
      ]
    },
    {
      "cell_type": "code",
      "execution_count": 194,
      "metadata": {
        "id": "GpwFdtr2i5uZ"
      },
      "outputs": [],
      "source": [
        "nt = 50           # number of temperature points\n",
        "N=10              # size of lattice, N x N\n",
        "eqsteps = 1000    # number of MC sweeps for equilibration\n",
        "mcsteps = 150    # number of MC sweeps for calculation\n",
        "\n",
        "T = np.linspace(1.53, 3.28, nt)\n",
        "Energy, Magnetization, SpecificHeat, Susceptibility = np.zeros(nt), np.zeros(nt), np.zeros(nt), np.zeros(nt)\n",
        "n=1/(mcsteps*N*N)"
      ]
    },
    {
      "cell_type": "code",
      "execution_count": null,
      "metadata": {},
      "outputs": [],
      "source": []
    },
    {
      "cell_type": "code",
      "execution_count": 195,
      "metadata": {},
      "outputs": [
        {
          "name": "stdout",
          "output_type": "stream",
          "text": [
            "[[ 1 -1  1  1 -1 -1  1 -1  1  1]\n",
            " [-1  1  1 -1 -1  1 -1  1  1 -1]\n",
            " [-1  1 -1 -1 -1  1  1 -1  1  1]\n",
            " [-1 -1  1  1  1 -1  1 -1  1  1]\n",
            " [-1 -1 -1  1  1  1 -1  1 -1  1]\n",
            " [ 1 -1 -1  1  1  1  1 -1 -1  1]\n",
            " [ 1  1  1 -1  1 -1  1 -1  1  1]\n",
            " [-1 -1 -1 -1  1  1  1  1 -1 -1]\n",
            " [-1  1 -1  1  1  1  1  1 -1  1]\n",
            " [ 1 -1  1  1  1 -1  1  1  1  1]]\n"
          ]
        }
      ],
      "source": [
        "state = 2*np.random.randint(2,size=(N,N))-1 \n",
        "print(state) "
      ]
    },
    {
      "cell_type": "code",
      "execution_count": 196,
      "metadata": {
        "id": "hl4NnW6hxiD9"
      },
      "outputs": [],
      "source": [
        "a = np.random.randint(0, N)\n",
        "b = np.random.randint(0, N)\n",
        "sig_i =  state[a, b]\n",
        "sig_j = state[(a+1)%N,b] + state[(a-1)%N,b] + state[a,(b+1)%N] + state[a,(b-1)%N]"
      ]
    },
    {
      "cell_type": "code",
      "execution_count": 197,
      "metadata": {},
      "outputs": [
        {
          "name": "stdout",
          "output_type": "stream",
          "text": [
            "4\n",
            "1.2195121951219512\n"
          ]
        }
      ],
      "source": [
        "delta_E = 2*sig_i*sig_j\n",
        "print(delta_E)\n",
        "print(delta_E*Beta)"
      ]
    },
    {
      "cell_type": "code",
      "execution_count": 198,
      "metadata": {},
      "outputs": [],
      "source": [
        "for t in range(nt):\n",
        "    Beta = 1/T[t]\n",
        "\n",
        "    for i in range(eqsteps):\n",
        "        for j in range(N):\n",
        "            for k in range(N):\n",
        "                a = np.random.randint(0, N)\n",
        "                b = np.random.randint(0, N)\n",
        "                sig_i =  state[a, b]\n",
        "                sig_j = state[(a+1)%N,b] + state[(a-1)%N,b] + state[a,(b+1)%N] + state[a,(b-1)%N]\n",
        "                delta_E = 2*sig_i*sig_j\n",
        "\n",
        "                if delta_E <0:\n",
        "                    sig_i *= -1\n",
        "                elif rand() < np.exp(-delta_E*Beta):\n",
        "                    sig_i *= -1\n",
        "                state[a,b] = sig_i\n",
        "    E=0\n",
        "    M=0\n",
        "    for i in range(mcsteps):\n",
        "        for j in range(N):\n",
        "            for k in range(N):\n",
        "                a = np.random.randint(0, N)\n",
        "                b = np.random.randint(0, N)\n",
        "                sig_i =  state[a, b]\n",
        "                sig_j = state[(a+1)%N,b] + state[(a-1)%N,b] + state[a,(b+1)%N] + state[a,(b-1)%N]\n",
        "                delta_E = 2*sig_i*sig_j\n",
        "\n",
        "                if delta_E <0:\n",
        "                    sig_i *= -1\n",
        "                elif rand() < np.exp(-delta_E*Beta):\n",
        "                    sig_i *= -1\n",
        "                state[a,b] = sig_i\n",
        "\n",
        "        E += -sig_i*sig_j\n",
        "        M = np.sum(state)\n",
        "    \n",
        "    Energy[t] = n*E\n",
        "    Magnetization[t] = n*M\n",
        "\n"
      ]
    },
    {
      "cell_type": "code",
      "execution_count": 199,
      "metadata": {},
      "outputs": [
        {
          "data": {
            "text/plain": [
              "[<matplotlib.lines.Line2D at 0x1d3fc37fb20>]"
            ]
          },
          "execution_count": 199,
          "metadata": {},
          "output_type": "execute_result"
        },
        {
          "data": {
            "image/png": "[encoded data removed]",
            "text/plain": [
              "<Figure size 432x288 with 1 Axes>"
            ]
          },
          "metadata": {
            "needs_background": "light"
          },
          "output_type": "display_data"
        }
      ],
      "source": [
        "plt.plot(T,Energy)"
      ]
    },
    {
      "cell_type": "code",
      "execution_count": 200,
      "metadata": {},
      "outputs": [
        {
          "data": {
            "text/plain": [
              "[<matplotlib.lines.Line2D at 0x1d3fc3bb490>]"
            ]
          },
          "execution_count": 200,
          "metadata": {},
          "output_type": "execute_result"
        },
        {
          "data": {
            "image/png": "[encoded data removed]",
            "text/plain": [
              "<Figure size 432x288 with 1 Axes>"
            ]
          },
          "metadata": {
            "needs_background": "light"
          },
          "output_type": "display_data"
        }
      ],
      "source": [
        "plt.plot(T,Magnetization)"
      ]
    },
    {
      "cell_type": "code",
      "execution_count": 201,
      "metadata": {},
      "outputs": [
        {
          "name": "stdout",
          "output_type": "stream",
          "text": [
            "[[-1 -1 -1  1  1  1  1 -1 -1 -1]\n",
            " [-1 -1 -1  1  1 -1  1 -1 -1 -1]\n",
            " [-1 -1 -1 -1 -1 -1  1  1  1 -1]\n",
            " [-1 -1 -1  1  1  1  1  1  1 -1]\n",
            " [ 1  1 -1  1  1  1  1 -1  1  1]\n",
            " [ 1 -1 -1 -1  1  1 -1 -1  1  1]\n",
            " [-1  1 -1 -1 -1  1  1 -1 -1 -1]\n",
            " [-1 -1 -1 -1 -1  1 -1 -1 -1 -1]\n",
            " [-1 -1  1 -1 -1  1 -1 -1 -1 -1]\n",
            " [-1 -1 -1 -1 -1  1 -1 -1 -1 -1]]\n"
          ]
        }
      ],
      "source": [
        "np.exp(-delta_E*Beta)\n",
        "print(state)"
      ]
    }
  ],
  "metadata": {
    "accelerator": "GPU",
    "colab": {
      "name": "Ising_Model.ipynb",
      "provenance": []
    },
    "gpuClass": "standard",
    "interpreter": {
      "hash": "5e533b1966831f5b052ea6b06787e4c23c81ebc41263419272bd1c523722d838"
    },
    "kernelspec": {
      "display_name": "Python 3.10.4 64-bit",
      "language": "python",
      "name": "python3"
    },
    "language_info": {
      "codemirror_mode": {
        "name": "ipython",
        "version": 3
      },
      "file_extension": ".py",
      "mimetype": "text/x-python",
      "name": "python",
      "nbconvert_exporter": "python",
      "pygments_lexer": "ipython3",
      "version": "3.10.4"
    },
    "orig_nbformat": 4
  },
  "nbformat": 4,
  "nbformat_minor": 0
}
