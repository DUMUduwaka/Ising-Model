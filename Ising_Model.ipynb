{
  "cells": [
    {
      "cell_type": "code",
      "execution_count": 1,
      "metadata": {
        "id": "ch29WhAcfk04"
      },
      "outputs": [],
      "source": [
        "import numpy as np\n",
        "from numpy.random import rand\n",
        "import matplotlib.pyplot as plt"
      ]
    },
    {
      "cell_type": "code",
      "execution_count": 2,
      "metadata": {
        "id": "GpwFdtr2i5uZ"
      },
      "outputs": [],
      "source": [
        "nt = 50           # number of temperature points\n",
        "N=10              # size of lattice, N x N\n",
        "eqsteps = 100     # number of MC sweeps for equilibration\n",
        "mcsteps = 100     # number of MC sweeps for calculation\n",
        "\n",
        "T = np.linspace(1.53, 3.28, nt)\n",
        "Energy, Magnetization, SpecificHeat, Susceptibility = np.zeros(nt), np.zeros(nt), np.zeros(nt), np.zeros(nt)\n",
        "n=1/(mcsteps*N*N)"
      ]
    },
    {
      "cell_type": "code",
      "execution_count": 3,
      "metadata": {
        "colab": {
          "base_uri": "https://localhost:8080/"
        },
        "id": "peXupCTs_-Vp",
        "outputId": "b1bd1a07-5619-4da7-8de6-947350c24566"
      },
      "outputs": [
        {
          "name": "stdout",
          "output_type": "stream",
          "text": [
            "[[-1 -1 -1  1 -1  1  1  1  1  1]\n",
            " [ 1  1 -1  1  1  1  1  1  1  1]\n",
            " [ 1 -1 -1  1 -1  1 -1 -1  1  1]\n",
            " [-1 -1 -1 -1  1  1 -1 -1  1  1]\n",
            " [ 1 -1 -1  1 -1  1  1 -1 -1  1]\n",
            " [-1 -1 -1  1  1 -1 -1 -1  1  1]\n",
            " [ 1  1  1 -1  1 -1  1  1 -1 -1]\n",
            " [ 1 -1 -1 -1 -1 -1 -1  1  1  1]\n",
            " [-1  1  1 -1  1 -1 -1 -1 -1  1]\n",
            " [ 1  1  1 -1 -1  1  1  1 -1 -1]]\n"
          ]
        }
      ],
      "source": [
        "state = 2*np.random.randint(2,size=(N,N))-1 \n",
        "print(state) "
      ]
    },
    {
      "cell_type": "code",
      "execution_count": 4,
      "metadata": {
        "id": "TPgN5tUn_-Vr"
      },
      "outputs": [],
      "source": [
        "for t in range(nt):\n",
        "    Beta = 1/T[t]\n",
        "\n",
        "    for i in range(eqsteps):\n",
        "        for j in range(N):\n",
        "            for k in range(N):\n",
        "                a = np.random.randint(0, N)\n",
        "                b = np.random.randint(0, N)\n",
        "                sig_i =  state[a, b]\n",
        "                sig_j = state[(a+1)%N,b] + state[(a-1)%N,b] + state[a,(b+1)%N] + state[a,(b-1)%N]\n",
        "                delta_E = 2*sig_i*sig_j\n",
        "\n",
        "                if delta_E <0:\n",
        "                    sig_i *= -1\n",
        "                elif rand() < np.exp(-delta_E*Beta):\n",
        "                    sig_i *= -1\n",
        "                state[a,b] = sig_i\n",
        "    E=0\n",
        "    M=0\n",
        "    for i in range(mcsteps):\n",
        "        for j in range(N):\n",
        "            for k in range(N):\n",
        "                a = np.random.randint(0, N)\n",
        "                b = np.random.randint(0, N)\n",
        "                sig_i =  state[a, b]\n",
        "                sig_j = state[(a+1)%N,b] + state[(a-1)%N,b] + state[a,(b+1)%N] + state[a,(b-1)%N]\n",
        "                delta_E = 2*sig_i*sig_j\n",
        "\n",
        "                if delta_E <0:\n",
        "                    sig_i *= -1\n",
        "                elif rand() < np.exp(-delta_E*Beta):\n",
        "                    sig_i *= -1\n",
        "                state[a,b] = sig_i\n",
        "\n",
        "        E += -sig_i*sig_j\n",
        "        M += np.sum(state)\n",
        "    \n",
        "    Energy[t] = n*E\n",
        "    Magnetization[t] = M*n\n",
        "\n",
        "\n",
        "\n"
      ]
    },
    {
      "cell_type": "code",
      "execution_count": 5,
      "metadata": {
        "colab": {
          "base_uri": "https://localhost:8080/"
        },
        "id": "kSgfCmGT_-Vs",
        "outputId": "3800d0e7-95a9-4cb5-f697-639df48ab22a"
      },
      "outputs": [
        {
          "data": {
            "text/plain": [
              "array([-0.04  , -0.0398, -0.0392, -0.0384, -0.0382, -0.038 , -0.0366,\n",
              "       -0.0384, -0.0386, -0.0364, -0.0376, -0.0368, -0.0346, -0.0354,\n",
              "       -0.0362, -0.0348, -0.0318, -0.0332, -0.0334, -0.027 , -0.0294,\n",
              "       -0.0334, -0.021 , -0.0314, -0.0192, -0.0284, -0.0226, -0.0282,\n",
              "       -0.0202, -0.0202, -0.0194, -0.0208, -0.0224, -0.0182, -0.019 ,\n",
              "       -0.0172, -0.0148, -0.0132, -0.0162, -0.0164, -0.0154, -0.015 ,\n",
              "       -0.02  , -0.0152, -0.0128, -0.014 , -0.0136, -0.016 , -0.0144,\n",
              "       -0.01  ])"
            ]
          },
          "execution_count": 5,
          "metadata": {},
          "output_type": "execute_result"
        }
      ],
      "source": [
        "Energy"
      ]
    },
    {
      "cell_type": "code",
      "execution_count": 6,
      "metadata": {
        "colab": {
          "base_uri": "https://localhost:8080/",
          "height": 411
        },
        "id": "L89yP95t_-Vt",
        "outputId": "9f1f688b-5527-4592-b111-81456fb88750"
      },
      "outputs": [
        {
          "data": {
            "image/png": "[encoded data removed]",
            "text/plain": [
              "<Figure size 576x432 with 1 Axes>"
            ]
          },
          "metadata": {
            "needs_background": "light"
          },
          "output_type": "display_data"
        }
      ],
      "source": [
        "plt.figure(figsize=(8,6))\n",
        "plt.plot(T,Energy,'o-',lw=1, ms=4)\n",
        "plt.title('Energy vs tempearture',fontsize=16)\n",
        "plt.xlabel('Tempearture',fontsize=16)\n",
        "plt.ylabel('Energy',fontsize=16)\n",
        "plt.grid()\n",
        "\n",
        "\n"
      ]
    },
    {
      "cell_type": "code",
      "execution_count": 7,
      "metadata": {
        "colab": {
          "base_uri": "https://localhost:8080/",
          "height": 411
        },
        "id": "Q8TRUq_l_-Vu",
        "outputId": "c14256eb-296c-49f8-bb35-a4f3708d8021"
      },
      "outputs": [
        {
          "data": {
            "image/png": "[encoded data removed]",
            "text/plain": [
              "<Figure size 576x432 with 1 Axes>"
            ]
          },
          "metadata": {
            "needs_background": "light"
          },
          "output_type": "display_data"
        }
      ],
      "source": [
        "plt.figure(figsize=(8,6))\n",
        "plt.plot(T,abs(Magnetization),'o-',lw=1, ms=4)\n",
        "plt.title('Average Magnetization vs tempearture',fontsize=16)\n",
        "plt.xlabel('Tempearture',fontsize=16)\n",
        "plt.ylabel('Average Magnetization',fontsize=16)\n",
        "plt.grid()"
      ]
    },
    {
      "cell_type": "code",
      "execution_count": 8,
      "metadata": {
        "colab": {
          "base_uri": "https://localhost:8080/"
        },
        "id": "O_QO9Y6u_-Vv",
        "outputId": "6606e37e-a8aa-4187-a559-68f5864abfa3"
      },
      "outputs": [
        {
          "name": "stdout",
          "output_type": "stream",
          "text": [
            "[[-1 -1 -1  1  1  1 -1  1  1  1]\n",
            " [ 1  1 -1  1  1  1  1  1  1  1]\n",
            " [ 1  1  1  1  1  1  1  1  1 -1]\n",
            " [ 1  1  1  1  1  1 -1 -1 -1 -1]\n",
            " [ 1  1  1  1  1 -1 -1 -1  1  1]\n",
            " [ 1 -1  1  1  1 -1 -1 -1 -1 -1]\n",
            " [ 1  1  1  1  1 -1 -1  1 -1 -1]\n",
            " [ 1  1  1  1 -1  1  1 -1 -1 -1]\n",
            " [ 1  1  1  1 -1 -1 -1 -1 -1 -1]\n",
            " [ 1  1  1  1 -1  1 -1  1  1  1]]\n"
          ]
        }
      ],
      "source": [
        "np.exp(-delta_E*Beta)\n",
        "print(state)"
      ]
    },
    {
      "cell_type": "code",
      "execution_count": 24,
      "metadata": {
        "colab": {
          "base_uri": "https://localhost:8080/"
        },
        "id": "SQ8NP_aGPrAx",
        "outputId": "8ededde9-62a5-4d85-f89d-84ed61c0fa4e"
      },
      "outputs": [
        {
          "name": "stdout",
          "output_type": "stream",
          "text": [
            "0\n",
            "1\n",
            "2\n",
            "3\n",
            "4\n",
            "5\n",
            "6\n",
            "7\n",
            "8\n",
            "9\n",
            "10\n",
            "11\n",
            "12\n",
            "13\n",
            "14\n",
            "15\n",
            "16\n",
            "17\n",
            "18\n",
            "19\n",
            "20\n",
            "21\n",
            "22\n",
            "23\n",
            "24\n",
            "25\n",
            "26\n",
            "27\n",
            "28\n",
            "29\n",
            "30\n",
            "31\n",
            "32\n",
            "33\n",
            "34\n",
            "35\n",
            "36\n",
            "37\n",
            "38\n",
            "39\n",
            "40\n",
            "41\n",
            "42\n",
            "43\n",
            "44\n",
            "45\n",
            "46\n",
            "47\n",
            "48\n",
            "49\n",
            "0\n",
            "1\n",
            "2\n",
            "3\n",
            "4\n",
            "5\n",
            "6\n",
            "7\n",
            "8\n",
            "9\n",
            "10\n",
            "11\n",
            "12\n",
            "13\n",
            "14\n",
            "15\n",
            "16\n",
            "17\n",
            "18\n",
            "19\n",
            "20\n",
            "21\n",
            "22\n",
            "23\n",
            "24\n",
            "25\n",
            "26\n",
            "27\n",
            "28\n",
            "29\n",
            "30\n",
            "31\n",
            "32\n",
            "33\n",
            "34\n",
            "35\n",
            "36\n",
            "37\n",
            "38\n",
            "39\n",
            "40\n",
            "41\n",
            "42\n",
            "43\n",
            "44\n",
            "45\n",
            "46\n",
            "47\n",
            "48\n",
            "49\n",
            "0\n",
            "1\n",
            "2\n",
            "3\n",
            "4\n",
            "5\n",
            "6\n",
            "7\n",
            "8\n",
            "9\n",
            "10\n",
            "11\n",
            "12\n",
            "13\n",
            "14\n",
            "15\n",
            "16\n",
            "17\n",
            "18\n",
            "19\n",
            "20\n",
            "21\n",
            "22\n",
            "23\n",
            "24\n",
            "25\n",
            "26\n",
            "27\n",
            "28\n",
            "29\n",
            "30\n",
            "31\n",
            "32\n",
            "33\n",
            "34\n",
            "35\n",
            "36\n",
            "37\n",
            "38\n",
            "39\n",
            "40\n",
            "41\n",
            "42\n",
            "43\n",
            "44\n",
            "45\n",
            "46\n",
            "47\n",
            "48\n",
            "49\n"
          ]
        }
      ],
      "source": [
        "lattice = [2,4,6]\n",
        "\n",
        "Energy, Magnetization, SpecificHeat, Susceptibility = np.zeros((len(lattice),nt)), np.zeros((len(lattice),nt)), np.zeros((len(lattice),nt)), np.zeros((len(lattice),nt))\n",
        "\n",
        "for N in lattice:\n",
        "  n=1/(mcsteps*N*N)\n",
        "\n",
        "  for t in range(nt):\n",
        "    Beta = 1/T[t]\n",
        "\n",
        "    for i in range(eqsteps):\n",
        "        for j in range(N):\n",
        "            for k in range(N):\n",
        "                a = np.random.randint(0, N)\n",
        "                b = np.random.randint(0, N)\n",
        "                sig_i =  state[a, b]\n",
        "                sig_j = state[(a+1)%N,b] + state[(a-1)%N,b] + state[a,(b+1)%N] + state[a,(b-1)%N]\n",
        "                delta_E = 2*sig_i*sig_j\n",
        "\n",
        "                if delta_E <0:\n",
        "                    sig_i *= -1\n",
        "                elif rand() < np.exp(-delta_E*Beta):\n",
        "                    sig_i *= -1\n",
        "                state[a,b] = sig_i\n",
        "    E=0\n",
        "    M=0\n",
        "    for i in range(mcsteps):\n",
        "        for j in range(N):\n",
        "            for k in range(N):\n",
        "                a = np.random.randint(0, N)\n",
        "                b = np.random.randint(0, N)\n",
        "                sig_i =  state[a, b]\n",
        "                sig_j = state[(a+1)%N,b] + state[(a-1)%N,b] + state[a,(b+1)%N] + state[a,(b-1)%N]\n",
        "                delta_E = 2*sig_i*sig_j\n",
        "\n",
        "                if delta_E <0:\n",
        "                    sig_i *= -1\n",
        "                elif rand() < np.exp(-delta_E*Beta):\n",
        "                    sig_i *= -1\n",
        "                state[a,b] = sig_i\n",
        "\n",
        "        E += -sig_i*sig_j\n",
        "        M += np.sum(state)\n",
        "    \n",
        "    Energy[N,t] = n*E\n",
        "    Magnetization[N,t] = M*n\n",
        "    \n",
        "\n",
        "\n",
        "  "
      ]
    },
    {
      "cell_type": "code",
      "execution_count": 21,
      "metadata": {
        "colab": {
          "base_uri": "https://localhost:8080/"
        },
        "id": "KH9lvvK4QHpC",
        "outputId": "770fbd6c-96f4-4922-c7d7-da101ef8e929"
      },
      "outputs": [
        {
          "data": {
            "text/plain": [
              "array([[0., 0., 0., 0., 0., 0., 0., 0., 0., 0., 0., 0., 0., 0., 0., 0.,\n",
              "        0., 0., 0., 0., 0., 0., 0., 0., 0., 0., 0., 0., 0., 0., 0., 0.,\n",
              "        0., 0., 0., 0., 0., 0., 0., 0., 0., 0., 0., 0., 0., 0., 0., 0.,\n",
              "        0., 0.],\n",
              "       [0., 0., 0., 0., 0., 0., 0., 0., 0., 0., 0., 0., 0., 0., 0., 0.,\n",
              "        0., 0., 0., 0., 0., 0., 0., 0., 0., 0., 0., 0., 0., 0., 0., 0.,\n",
              "        0., 0., 0., 0., 0., 0., 0., 0., 0., 0., 0., 0., 0., 0., 0., 0.,\n",
              "        0., 0.],\n",
              "       [0., 0., 0., 0., 0., 0., 0., 0., 0., 0., 0., 0., 0., 0., 0., 0.,\n",
              "        0., 0., 0., 0., 0., 0., 0., 0., 0., 0., 0., 0., 0., 0., 0., 0.,\n",
              "        0., 0., 0., 0., 0., 0., 0., 0., 0., 0., 0., 0., 0., 0., 0., 0.,\n",
              "        0., 0.]])"
            ]
          },
          "execution_count": 21,
          "metadata": {},
          "output_type": "execute_result"
        }
      ],
      "source": [
        "Energy"
      ]
    }
  ],
  "metadata": {
    "accelerator": "GPU",
    "colab": {
      "name": "Ising_Model.ipynb",
      "provenance": []
    },
    "gpuClass": "standard",
    "interpreter": {
      "hash": "5e533b1966831f5b052ea6b06787e4c23c81ebc41263419272bd1c523722d838"
    },
    "kernelspec": {
      "display_name": "Python 3.10.4 64-bit",
      "language": "python",
      "name": "python3"
    },
    "language_info": {
      "codemirror_mode": {
        "name": "ipython",
        "version": 3
      },
      "file_extension": ".py",
      "mimetype": "text/x-python",
      "name": "python",
      "nbconvert_exporter": "python",
      "pygments_lexer": "ipython3",
      "version": "3.10.4"
    },
    "orig_nbformat": 4
  },
  "nbformat": 4,
  "nbformat_minor": 0
}
