{
  "cells": [
    {
      "cell_type": "code",
      "execution_count": 1,
      "metadata": {
        "id": "ch29WhAcfk04"
      },
      "outputs": [],
      "source": [
        "import numpy as np\n",
        "import matplotlib.pyplot as plt"
      ]
    },
    {
      "cell_type": "code",
      "source": [
        "nt = 50           # number of temperature points\n",
        "N=10              # size of lattice, N x N\n",
        "eqsteps = 2000    # number of MC sweeps for equilibration\n",
        "mcsteps = 2500    # number of MC sweeps for calculation\n",
        "\n",
        "T = np.linspace(1.53, 3.28, nt)\n",
        "Energy, Magnetization, SpecificHeat, Susceptibility = np.zeros(nt), np.zeros(nt), np.zeros(nt), np.zeros(nt)"
      ],
      "metadata": {
        "id": "GpwFdtr2i5uZ"
      },
      "execution_count": 44,
      "outputs": []
    },
    {
      "cell_type": "code",
      "source": [
        "a = np.random.randint(0, N)\n",
        "b = np.random.randint(0, N)\n",
        "s =  state[a, b]\n",
        "nb = state[(a+1)%N,b] + state[(a-1)%N,b] + state[a,(b+1)%N] + state[a,(b-1)%N]"
      ],
      "metadata": {
        "id": "hl4NnW6hxiD9"
      },
      "execution_count": 97,
      "outputs": []
    },
    {
      "cell_type": "code",
      "source": [
        "state = 2*np.random.randint(2,size=(N,N))-1\n",
        "print(state) "
      ],
      "metadata": {
        "colab": {
          "base_uri": "https://localhost:8080/"
        },
        "id": "MH_dZX_MfnvK",
        "outputId": "21ad8f0e-08d8-4544-eae7-96780b913cb3"
      },
      "execution_count": 6,
      "outputs": [
        {
          "output_type": "stream",
          "name": "stdout",
          "text": [
            "[[-1  1 -1 -1 -1  1  1  1  1  1]\n",
            " [ 1  1  1 -1  1 -1 -1  1 -1  1]\n",
            " [ 1 -1 -1  1 -1  1  1  1 -1 -1]\n",
            " [ 1 -1  1  1 -1 -1  1 -1  1  1]\n",
            " [ 1  1  1  1 -1  1  1  1 -1  1]\n",
            " [ 1 -1 -1  1 -1 -1  1  1  1 -1]\n",
            " [ 1  1  1 -1  1 -1 -1 -1 -1  1]\n",
            " [-1 -1  1 -1 -1 -1  1 -1  1 -1]\n",
            " [ 1 -1 -1 -1 -1  1  1 -1  1 -1]\n",
            " [ 1 -1 -1  1 -1  1  1 -1 -1 -1]]\n"
          ]
        }
      ]
    }
  ],
  "metadata": {
    "interpreter": {
      "hash": "5e533b1966831f5b052ea6b06787e4c23c81ebc41263419272bd1c523722d838"
    },
    "kernelspec": {
      "display_name": "Python 3.10.4 64-bit",
      "language": "python",
      "name": "python3"
    },
    "language_info": {
      "codemirror_mode": {
        "name": "ipython",
        "version": 3
      },
      "file_extension": ".py",
      "mimetype": "text/x-python",
      "name": "python",
      "nbconvert_exporter": "python",
      "pygments_lexer": "ipython3",
      "version": "3.10.4"
    },
    "orig_nbformat": 4,
    "colab": {
      "name": "Ising_Model.ipynb",
      "provenance": []
    },
    "accelerator": "GPU",
    "gpuClass": "standard"
  },
  "nbformat": 4,
  "nbformat_minor": 0
}