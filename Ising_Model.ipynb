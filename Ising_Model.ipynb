{
  "cells": [
    {
      "cell_type": "code",
      "execution_count": 2,
      "metadata": {
        "id": "ch29WhAcfk04"
      },
      "outputs": [],
      "source": [
        "import numpy as np\n",
        "import matplotlib.pyplot as plt"
      ]
    },
    {
      "cell_type": "code",
      "execution_count": 94,
      "metadata": {
        "id": "GpwFdtr2i5uZ"
      },
      "outputs": [],
      "source": [
        "nt = 50           # number of temperature points\n",
        "N=10              # size of lattice, N x N\n",
        "eqsteps = 2000    # number of MC sweeps for equilibration\n",
        "mcsteps = 2500    # number of MC sweeps for calculation\n",
        "\n",
        "T = np.linspace(1.53, 3.28, nt)\n",
        "Energy, Magnetization, SpecificHeat, Susceptibility = np.zeros(nt), np.zeros(nt), np.zeros(nt), np.zeros(nt)\n",
        "Beta = 1/T"
      ]
    },
    {
      "cell_type": "code",
      "execution_count": 96,
      "metadata": {},
      "outputs": [
        {
          "name": "stdout",
          "output_type": "stream",
          "text": [
            "[[-1  1 -1  1  1  1 -1  1  1 -1]\n",
            " [-1  1 -1  1 -1  1 -1 -1  1 -1]\n",
            " [ 1 -1 -1  1  1  1  1  1  1 -1]\n",
            " [-1  1 -1 -1  1  1 -1  1 -1  1]\n",
            " [ 1 -1  1 -1  1  1  1 -1 -1 -1]\n",
            " [-1  1 -1 -1  1  1 -1 -1  1 -1]\n",
            " [-1 -1 -1 -1 -1  1  1  1 -1  1]\n",
            " [-1 -1 -1 -1 -1 -1 -1  1  1  1]\n",
            " [-1  1 -1  1  1 -1  1  1  1 -1]\n",
            " [ 1  1 -1  1 -1 -1  1  1  1 -1]]\n"
          ]
        }
      ],
      "source": [
        "state = 2*np.random.randint(2,size=(N,N))-1 \n",
        "print(state) "
      ]
    },
    {
      "cell_type": "code",
      "execution_count": 109,
      "metadata": {
        "id": "hl4NnW6hxiD9"
      },
      "outputs": [],
      "source": [
        "a = np.random.randint(0, N)\n",
        "b = np.random.randint(0, N)\n",
        "s =  state[a, b]\n",
        "nb = state[(a+1)%N,b] + state[(a-1)%N,b] + state[a,(b+1)%N] + state[a,(b-1)%N]"
      ]
    },
    {
      "cell_type": "code",
      "execution_count": 110,
      "metadata": {},
      "outputs": [
        {
          "name": "stdout",
          "output_type": "stream",
          "text": [
            "4\n",
            "[2.61437908 2.55474453 2.49776985 2.44328098 2.3911187  2.34113712\n",
            " 2.29320229 2.24719101 2.20298977 2.16049383 2.11960636 2.08023774\n",
            " 2.04230489 2.00573066 1.97044335 1.93637621 1.90346703 1.87165775\n",
            " 1.84089415 1.81112549 1.78230426 1.75438596 1.72732881 1.70109356\n",
            " 1.67564333 1.6509434  1.62696107 1.60366552 1.58102767 1.55902004\n",
            " 1.53761669 1.51679307 1.49652592 1.47679325 1.45757418 1.43884892\n",
            " 1.42059868 1.40280561 1.38545275 1.36852395 1.35200386 1.33587786\n",
            " 1.32013201 1.30475303 1.28972824 1.27504554 1.26069338 1.24666073\n",
            " 1.23293703 1.2195122 ]\n"
          ]
        }
      ],
      "source": [
        "delta_E = 2*s*nb\n",
        "print(delta_E)\n",
        "print(delta_E*Beta)"
      ]
    }
  ],
  "metadata": {
    "accelerator": "GPU",
    "colab": {
      "name": "Ising_Model.ipynb",
      "provenance": []
    },
    "gpuClass": "standard",
    "interpreter": {
      "hash": "5e533b1966831f5b052ea6b06787e4c23c81ebc41263419272bd1c523722d838"
    },
    "kernelspec": {
      "display_name": "Python 3.10.4 64-bit",
      "language": "python",
      "name": "python3"
    },
    "language_info": {
      "codemirror_mode": {
        "name": "ipython",
        "version": 3
      },
      "file_extension": ".py",
      "mimetype": "text/x-python",
      "name": "python",
      "nbconvert_exporter": "python",
      "pygments_lexer": "ipython3",
      "version": "3.10.4"
    },
    "orig_nbformat": 4
  },
  "nbformat": 4,
  "nbformat_minor": 0
}
