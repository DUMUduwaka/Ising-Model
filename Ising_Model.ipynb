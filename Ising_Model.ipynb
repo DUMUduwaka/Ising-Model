{
  "cells": [
    {
      "cell_type": "code",
      "execution_count": 2,
      "metadata": {
        "id": "ch29WhAcfk04"
      },
      "outputs": [],
      "source": [
        "import numpy as np\n",
        "import matplotlib.pyplot as plt\n"
      ]
    },
    {
      "cell_type": "code",
      "source": [
        "N=10"
      ],
      "metadata": {
        "id": "GpwFdtr2i5uZ"
      },
      "execution_count": 1,
      "outputs": []
    },
    {
      "cell_type": "code",
      "source": [
        "state = 2*np.random.randint(2,size=(N,N))-1\n",
        "print(state) "
      ],
      "metadata": {
        "colab": {
          "base_uri": "https://localhost:8080/"
        },
        "id": "MH_dZX_MfnvK",
        "outputId": "0201689a-bf4d-4055-d803-1dfd79e1ec46"
      },
      "execution_count": 7,
      "outputs": [
        {
          "output_type": "stream",
          "name": "stdout",
          "text": [
            "[[ 1  1 -1 -1  1  1 -1 -1 -1 -1]\n",
            " [ 1  1  1  1 -1  1 -1  1  1  1]\n",
            " [-1  1  1  1 -1 -1  1  1  1  1]\n",
            " [-1  1  1  1 -1  1  1  1  1  1]\n",
            " [ 1  1 -1 -1  1  1 -1 -1  1 -1]\n",
            " [-1  1  1 -1 -1 -1 -1 -1  1  1]\n",
            " [-1 -1  1  1 -1 -1 -1  1 -1 -1]\n",
            " [ 1 -1 -1  1  1  1  1 -1  1 -1]\n",
            " [ 1 -1 -1 -1  1 -1 -1  1  1  1]\n",
            " [ 1  1  1  1 -1  1 -1 -1  1 -1]]\n"
          ]
        }
      ]
    }
  ],
  "metadata": {
    "interpreter": {
      "hash": "5e533b1966831f5b052ea6b06787e4c23c81ebc41263419272bd1c523722d838"
    },
    "kernelspec": {
      "display_name": "Python 3.10.4 64-bit",
      "language": "python",
      "name": "python3"
    },
    "language_info": {
      "codemirror_mode": {
        "name": "ipython",
        "version": 3
      },
      "file_extension": ".py",
      "mimetype": "text/x-python",
      "name": "python",
      "nbconvert_exporter": "python",
      "pygments_lexer": "ipython3",
      "version": "3.10.4"
    },
    "orig_nbformat": 4,
    "colab": {
      "name": "Ising_Model.ipynb",
      "provenance": []
    }
  },
  "nbformat": 4,
  "nbformat_minor": 0
}